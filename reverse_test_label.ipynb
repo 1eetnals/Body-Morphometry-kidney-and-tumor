{
  "cells": [
    {
      "cell_type": "markdown",
      "metadata": {
        "id": "view-in-github",
        "colab_type": "text"
      },
      "source": [
        "<a href=\"https://colab.research.google.com/github/1eetnals/Body-Morphometry-kidney-and-tumor/blob/main/reverse_test_label.ipynb\" target=\"_parent\"><img src=\"https://colab.research.google.com/assets/colab-badge.svg\" alt=\"Open In Colab\"/></a>"
      ]
    },
    {
      "cell_type": "code",
      "execution_count": null,
      "source": [
        "import os\n",
        "import shutil\n",
        "import tempfile\n",
        "\n",
        "import matplotlib.pyplot as plt\n",
        "import numpy as np\n",
        "from tqdm import tqdm\n",
        "\n",
        "from monai.losses import DiceCELoss\n",
        "from monai.inferers import sliding_window_inference\n",
        "from monai.transforms import (\n",
        "    AsDiscrete,\n",
        "    AddChanneld,\n",
        "    Compose,\n",
        "    CropForegroundd,\n",
        "    LoadImaged,\n",
        "    Orientationd,\n",
        "    RandFlipd,\n",
        "    RandCropByPosNegLabeld,\n",
        "    RandShiftIntensityd,\n",
        "    ScaleIntensityRanged,\n",
        "    Spacingd,\n",
        "    RandRotate90d,\n",
        "    ToTensord,\n",
        "    MapTransform,\n",
        ")\n",
        "\n",
        "from monai.config import print_config\n",
        "from monai.metrics import DiceMetric\n",
        "from monai.networks.nets import UNETR\n",
        "\n",
        "from monai.data import (\n",
        "    DataLoader,\n",
        "    CacheDataset,\n",
        "    load_decathlon_datalist,\n",
        "    decollate_batch,\n",
        ")\n",
        "\n",
        "\n",
        "import torch\n",
        "\n",
        "print_config()"
      ],
      "outputs": [
        {
          "output_type": "stream",
          "name": "stdout",
          "text": [
            "MONAI version: 0.6.0\n",
            "Numpy version: 1.20.1\n",
            "Pytorch version: 1.9.0\n",
            "MONAI flags: HAS_EXT = False, USE_COMPILED = False\n",
            "MONAI rev id: 0ad9e73639e30f4f1af5a1f4a45da9cb09930179\n",
            "\n",
            "Optional dependencies:\n",
            "Pytorch Ignite version: NOT INSTALLED or UNKNOWN VERSION.\n",
            "Nibabel version: 3.2.1\n",
            "scikit-image version: 0.18.1\n",
            "Pillow version: 8.2.0\n",
            "Tensorboard version: NOT INSTALLED or UNKNOWN VERSION.\n",
            "gdown version: 3.13.0\n",
            "TorchVision version: NOT INSTALLED or UNKNOWN VERSION.\n",
            "ITK version: 5.1.2\n",
            "tqdm version: 4.59.0\n",
            "lmdb version: NOT INSTALLED or UNKNOWN VERSION.\n",
            "psutil version: 5.8.0\n",
            "pandas version: 1.2.4\n",
            "einops version: NOT INSTALLED or UNKNOWN VERSION.\n",
            "\n",
            "For details about installing the optional dependencies, please visit:\n",
            "    https://docs.monai.io/en/latest/installation.html#installing-the-recommended-dependencies\n",
            "\n"
          ]
        }
      ],
      "metadata": {
        "id": "ki0SItbVdSmJ",
        "outputId": "ac005af6-bd4c-4855-8e89-67ed28102668"
      }
    },
    {
      "cell_type": "code",
      "execution_count": null,
      "source": [
        "test_path = '/Users/hufsbme/gyu/test/'\n",
        "Input_folder = os.listdir(test_path)\n",
        "test_files = []\n",
        "\n",
        "for i in range(0,len(Input_folder)):\n",
        "    if Input_folder[i].endswith('.nii.gz'):\n",
        "        test_files.append(test_path+Input_folder[i])\n",
        "\n",
        "test_files.sort()\n",
        "test_files"
      ],
      "outputs": [
        {
          "output_type": "execute_result",
          "data": {
            "text/plain": [
              "['/Users/hufsbme/gyu/test/test001.nii.gz',\n",
              " '/Users/hufsbme/gyu/test/test002.nii.gz',\n",
              " '/Users/hufsbme/gyu/test/test003.nii.gz',\n",
              " '/Users/hufsbme/gyu/test/test004.nii.gz',\n",
              " '/Users/hufsbme/gyu/test/test005.nii.gz',\n",
              " '/Users/hufsbme/gyu/test/test006.nii.gz',\n",
              " '/Users/hufsbme/gyu/test/test007.nii.gz',\n",
              " '/Users/hufsbme/gyu/test/test008.nii.gz',\n",
              " '/Users/hufsbme/gyu/test/test009.nii.gz',\n",
              " '/Users/hufsbme/gyu/test/test010.nii.gz',\n",
              " '/Users/hufsbme/gyu/test/test011.nii.gz',\n",
              " '/Users/hufsbme/gyu/test/test012.nii.gz',\n",
              " '/Users/hufsbme/gyu/test/test013.nii.gz',\n",
              " '/Users/hufsbme/gyu/test/test014.nii.gz',\n",
              " '/Users/hufsbme/gyu/test/test015.nii.gz',\n",
              " '/Users/hufsbme/gyu/test/test016.nii.gz',\n",
              " '/Users/hufsbme/gyu/test/test017.nii.gz',\n",
              " '/Users/hufsbme/gyu/test/test018.nii.gz',\n",
              " '/Users/hufsbme/gyu/test/test019.nii.gz',\n",
              " '/Users/hufsbme/gyu/test/test020.nii.gz',\n",
              " '/Users/hufsbme/gyu/test/test021.nii.gz',\n",
              " '/Users/hufsbme/gyu/test/test022.nii.gz',\n",
              " '/Users/hufsbme/gyu/test/test023.nii.gz',\n",
              " '/Users/hufsbme/gyu/test/test024.nii.gz',\n",
              " '/Users/hufsbme/gyu/test/test025.nii.gz',\n",
              " '/Users/hufsbme/gyu/test/test026.nii.gz',\n",
              " '/Users/hufsbme/gyu/test/test027.nii.gz',\n",
              " '/Users/hufsbme/gyu/test/test028.nii.gz',\n",
              " '/Users/hufsbme/gyu/test/test029.nii.gz',\n",
              " '/Users/hufsbme/gyu/test/test030.nii.gz',\n",
              " '/Users/hufsbme/gyu/test/test031.nii.gz',\n",
              " '/Users/hufsbme/gyu/test/test032.nii.gz',\n",
              " '/Users/hufsbme/gyu/test/test033.nii.gz',\n",
              " '/Users/hufsbme/gyu/test/test034.nii.gz',\n",
              " '/Users/hufsbme/gyu/test/test035.nii.gz',\n",
              " '/Users/hufsbme/gyu/test/test036.nii.gz',\n",
              " '/Users/hufsbme/gyu/test/test037.nii.gz',\n",
              " '/Users/hufsbme/gyu/test/test038.nii.gz',\n",
              " '/Users/hufsbme/gyu/test/test039.nii.gz',\n",
              " '/Users/hufsbme/gyu/test/test040.nii.gz',\n",
              " '/Users/hufsbme/gyu/test/test041.nii.gz',\n",
              " '/Users/hufsbme/gyu/test/test042.nii.gz',\n",
              " '/Users/hufsbme/gyu/test/test043.nii.gz',\n",
              " '/Users/hufsbme/gyu/test/test044.nii.gz',\n",
              " '/Users/hufsbme/gyu/test/test045.nii.gz',\n",
              " '/Users/hufsbme/gyu/test/test046.nii.gz',\n",
              " '/Users/hufsbme/gyu/test/test047.nii.gz',\n",
              " '/Users/hufsbme/gyu/test/test048.nii.gz',\n",
              " '/Users/hufsbme/gyu/test/test049.nii.gz',\n",
              " '/Users/hufsbme/gyu/test/test050.nii.gz',\n",
              " '/Users/hufsbme/gyu/test/test051.nii.gz',\n",
              " '/Users/hufsbme/gyu/test/test052.nii.gz',\n",
              " '/Users/hufsbme/gyu/test/test053.nii.gz',\n",
              " '/Users/hufsbme/gyu/test/test054.nii.gz',\n",
              " '/Users/hufsbme/gyu/test/test055.nii.gz',\n",
              " '/Users/hufsbme/gyu/test/test056.nii.gz',\n",
              " '/Users/hufsbme/gyu/test/test057.nii.gz',\n",
              " '/Users/hufsbme/gyu/test/test058.nii.gz',\n",
              " '/Users/hufsbme/gyu/test/test059.nii.gz',\n",
              " '/Users/hufsbme/gyu/test/test060.nii.gz',\n",
              " '/Users/hufsbme/gyu/test/test061.nii.gz',\n",
              " '/Users/hufsbme/gyu/test/test062.nii.gz',\n",
              " '/Users/hufsbme/gyu/test/test063.nii.gz',\n",
              " '/Users/hufsbme/gyu/test/test064.nii.gz',\n",
              " '/Users/hufsbme/gyu/test/test065.nii.gz',\n",
              " '/Users/hufsbme/gyu/test/test066.nii.gz',\n",
              " '/Users/hufsbme/gyu/test/test067.nii.gz',\n",
              " '/Users/hufsbme/gyu/test/test068.nii.gz',\n",
              " '/Users/hufsbme/gyu/test/test069.nii.gz',\n",
              " '/Users/hufsbme/gyu/test/test070.nii.gz',\n",
              " '/Users/hufsbme/gyu/test/test071.nii.gz',\n",
              " '/Users/hufsbme/gyu/test/test072.nii.gz',\n",
              " '/Users/hufsbme/gyu/test/test073.nii.gz',\n",
              " '/Users/hufsbme/gyu/test/test074.nii.gz',\n",
              " '/Users/hufsbme/gyu/test/test075.nii.gz',\n",
              " '/Users/hufsbme/gyu/test/test076.nii.gz',\n",
              " '/Users/hufsbme/gyu/test/test077.nii.gz',\n",
              " '/Users/hufsbme/gyu/test/test078.nii.gz',\n",
              " '/Users/hufsbme/gyu/test/test079.nii.gz',\n",
              " '/Users/hufsbme/gyu/test/test080.nii.gz',\n",
              " '/Users/hufsbme/gyu/test/test081.nii.gz',\n",
              " '/Users/hufsbme/gyu/test/test082.nii.gz',\n",
              " '/Users/hufsbme/gyu/test/test083.nii.gz']"
            ]
          },
          "metadata": {},
          "execution_count": 19
        }
      ],
      "metadata": {
        "id": "VbE3KVKrdSmP",
        "outputId": "c7892d68-85df-4ed4-b5bd-3c06b11b759b"
      }
    },
    {
      "cell_type": "code",
      "execution_count": null,
      "source": [
        "test_ind=np.arange(0,len(test_files))\n",
        "data_dicts=[\n",
        "    {\n",
        "        \"image\": test_files[idx],\n",
        "    }\n",
        "    for idx in test_ind\n",
        "]\n",
        "\n",
        "test_f=data_dicts\n",
        "len(test_f)\n",
        "test_f"
      ],
      "outputs": [
        {
          "output_type": "execute_result",
          "data": {
            "text/plain": [
              "[{'image': '/Users/hufsbme/gyu/test/test001.nii.gz'},\n",
              " {'image': '/Users/hufsbme/gyu/test/test002.nii.gz'},\n",
              " {'image': '/Users/hufsbme/gyu/test/test003.nii.gz'},\n",
              " {'image': '/Users/hufsbme/gyu/test/test004.nii.gz'},\n",
              " {'image': '/Users/hufsbme/gyu/test/test005.nii.gz'},\n",
              " {'image': '/Users/hufsbme/gyu/test/test006.nii.gz'},\n",
              " {'image': '/Users/hufsbme/gyu/test/test007.nii.gz'},\n",
              " {'image': '/Users/hufsbme/gyu/test/test008.nii.gz'},\n",
              " {'image': '/Users/hufsbme/gyu/test/test009.nii.gz'},\n",
              " {'image': '/Users/hufsbme/gyu/test/test010.nii.gz'},\n",
              " {'image': '/Users/hufsbme/gyu/test/test011.nii.gz'},\n",
              " {'image': '/Users/hufsbme/gyu/test/test012.nii.gz'},\n",
              " {'image': '/Users/hufsbme/gyu/test/test013.nii.gz'},\n",
              " {'image': '/Users/hufsbme/gyu/test/test014.nii.gz'},\n",
              " {'image': '/Users/hufsbme/gyu/test/test015.nii.gz'},\n",
              " {'image': '/Users/hufsbme/gyu/test/test016.nii.gz'},\n",
              " {'image': '/Users/hufsbme/gyu/test/test017.nii.gz'},\n",
              " {'image': '/Users/hufsbme/gyu/test/test018.nii.gz'},\n",
              " {'image': '/Users/hufsbme/gyu/test/test019.nii.gz'},\n",
              " {'image': '/Users/hufsbme/gyu/test/test020.nii.gz'},\n",
              " {'image': '/Users/hufsbme/gyu/test/test021.nii.gz'},\n",
              " {'image': '/Users/hufsbme/gyu/test/test022.nii.gz'},\n",
              " {'image': '/Users/hufsbme/gyu/test/test023.nii.gz'},\n",
              " {'image': '/Users/hufsbme/gyu/test/test024.nii.gz'},\n",
              " {'image': '/Users/hufsbme/gyu/test/test025.nii.gz'},\n",
              " {'image': '/Users/hufsbme/gyu/test/test026.nii.gz'},\n",
              " {'image': '/Users/hufsbme/gyu/test/test027.nii.gz'},\n",
              " {'image': '/Users/hufsbme/gyu/test/test028.nii.gz'},\n",
              " {'image': '/Users/hufsbme/gyu/test/test029.nii.gz'},\n",
              " {'image': '/Users/hufsbme/gyu/test/test030.nii.gz'},\n",
              " {'image': '/Users/hufsbme/gyu/test/test031.nii.gz'},\n",
              " {'image': '/Users/hufsbme/gyu/test/test032.nii.gz'},\n",
              " {'image': '/Users/hufsbme/gyu/test/test033.nii.gz'},\n",
              " {'image': '/Users/hufsbme/gyu/test/test034.nii.gz'},\n",
              " {'image': '/Users/hufsbme/gyu/test/test035.nii.gz'},\n",
              " {'image': '/Users/hufsbme/gyu/test/test036.nii.gz'},\n",
              " {'image': '/Users/hufsbme/gyu/test/test037.nii.gz'},\n",
              " {'image': '/Users/hufsbme/gyu/test/test038.nii.gz'},\n",
              " {'image': '/Users/hufsbme/gyu/test/test039.nii.gz'},\n",
              " {'image': '/Users/hufsbme/gyu/test/test040.nii.gz'},\n",
              " {'image': '/Users/hufsbme/gyu/test/test041.nii.gz'},\n",
              " {'image': '/Users/hufsbme/gyu/test/test042.nii.gz'},\n",
              " {'image': '/Users/hufsbme/gyu/test/test043.nii.gz'},\n",
              " {'image': '/Users/hufsbme/gyu/test/test044.nii.gz'},\n",
              " {'image': '/Users/hufsbme/gyu/test/test045.nii.gz'},\n",
              " {'image': '/Users/hufsbme/gyu/test/test046.nii.gz'},\n",
              " {'image': '/Users/hufsbme/gyu/test/test047.nii.gz'},\n",
              " {'image': '/Users/hufsbme/gyu/test/test048.nii.gz'},\n",
              " {'image': '/Users/hufsbme/gyu/test/test049.nii.gz'},\n",
              " {'image': '/Users/hufsbme/gyu/test/test050.nii.gz'},\n",
              " {'image': '/Users/hufsbme/gyu/test/test051.nii.gz'},\n",
              " {'image': '/Users/hufsbme/gyu/test/test052.nii.gz'},\n",
              " {'image': '/Users/hufsbme/gyu/test/test053.nii.gz'},\n",
              " {'image': '/Users/hufsbme/gyu/test/test054.nii.gz'},\n",
              " {'image': '/Users/hufsbme/gyu/test/test055.nii.gz'},\n",
              " {'image': '/Users/hufsbme/gyu/test/test056.nii.gz'},\n",
              " {'image': '/Users/hufsbme/gyu/test/test057.nii.gz'},\n",
              " {'image': '/Users/hufsbme/gyu/test/test058.nii.gz'},\n",
              " {'image': '/Users/hufsbme/gyu/test/test059.nii.gz'},\n",
              " {'image': '/Users/hufsbme/gyu/test/test060.nii.gz'},\n",
              " {'image': '/Users/hufsbme/gyu/test/test061.nii.gz'},\n",
              " {'image': '/Users/hufsbme/gyu/test/test062.nii.gz'},\n",
              " {'image': '/Users/hufsbme/gyu/test/test063.nii.gz'},\n",
              " {'image': '/Users/hufsbme/gyu/test/test064.nii.gz'},\n",
              " {'image': '/Users/hufsbme/gyu/test/test065.nii.gz'},\n",
              " {'image': '/Users/hufsbme/gyu/test/test066.nii.gz'},\n",
              " {'image': '/Users/hufsbme/gyu/test/test067.nii.gz'},\n",
              " {'image': '/Users/hufsbme/gyu/test/test068.nii.gz'},\n",
              " {'image': '/Users/hufsbme/gyu/test/test069.nii.gz'},\n",
              " {'image': '/Users/hufsbme/gyu/test/test070.nii.gz'},\n",
              " {'image': '/Users/hufsbme/gyu/test/test071.nii.gz'},\n",
              " {'image': '/Users/hufsbme/gyu/test/test072.nii.gz'},\n",
              " {'image': '/Users/hufsbme/gyu/test/test073.nii.gz'},\n",
              " {'image': '/Users/hufsbme/gyu/test/test074.nii.gz'},\n",
              " {'image': '/Users/hufsbme/gyu/test/test075.nii.gz'},\n",
              " {'image': '/Users/hufsbme/gyu/test/test076.nii.gz'},\n",
              " {'image': '/Users/hufsbme/gyu/test/test077.nii.gz'},\n",
              " {'image': '/Users/hufsbme/gyu/test/test078.nii.gz'},\n",
              " {'image': '/Users/hufsbme/gyu/test/test079.nii.gz'},\n",
              " {'image': '/Users/hufsbme/gyu/test/test080.nii.gz'},\n",
              " {'image': '/Users/hufsbme/gyu/test/test081.nii.gz'},\n",
              " {'image': '/Users/hufsbme/gyu/test/test082.nii.gz'},\n",
              " {'image': '/Users/hufsbme/gyu/test/test083.nii.gz'}]"
            ]
          },
          "metadata": {},
          "execution_count": 20
        }
      ],
      "metadata": {
        "id": "jVos4MUCdSmP",
        "outputId": "7b43783e-a74a-4d86-9c0c-f644cf4320f6"
      }
    },
    {
      "cell_type": "code",
      "execution_count": null,
      "source": [
        "test_transforms1 = Compose(\n",
        "    [\n",
        "        LoadImaged(keys=[\"image\"]),\n",
        "        AddChanneld(keys=[\"image\"]),\n",
        "        Orientationd(keys=[\"image\"], axcodes=\"RAS\"),\n",
        "        ToTensord(keys=[\"image\"]),\n",
        "    ]\n",
        ")\n",
        "\n",
        "test_transforms2 = Compose(\n",
        "    [\n",
        "        LoadImaged(keys=[\"image\"]),\n",
        "        AddChanneld(keys=[\"image\"]),\n",
        "        Orientationd(keys=[\"image\"], axcodes=\"RPS\"),\n",
        "        ToTensord(keys=[\"image\"]),\n",
        "    ]\n",
        ")"
      ],
      "outputs": [],
      "metadata": {
        "id": "4A6rqMc-dSmQ"
      }
    },
    {
      "cell_type": "code",
      "execution_count": null,
      "source": [
        "'''test_ds1 = CacheDataset(\n",
        "    data=test_f, transform=test_transforms1,cache_rate=1.0, num_workers=0\n",
        ")\n",
        "test_loader1 = DataLoader(\n",
        "    test_ds1, batch_size=1, shuffle=False, num_workers=0, pin_memory=True\n",
        ")'''\n",
        "\n",
        "test_ds2 = CacheDataset(\n",
        "    data=test_f, transform=test_transforms2, cache_rate=1.0, num_workers=0\n",
        ")\n",
        "test_loader2 = DataLoader(\n",
        "    test_ds2, batch_size=1, shuffle=False, num_workers=0, pin_memory=True\n",
        ")"
      ],
      "outputs": [
        {
          "output_type": "stream",
          "name": "stderr",
          "text": [
            "Loading dataset: 100%|██████████| 83/83 [00:53<00:00,  1.54it/s]\n"
          ]
        }
      ],
      "metadata": {
        "id": "CfULCw_OdSmR",
        "outputId": "97f80de3-5517-436b-8728-73769285e19d"
      }
    },
    {
      "cell_type": "code",
      "execution_count": null,
      "source": [
        "i = 0\n",
        "for test_image1 in test_loader1:\n",
        "#img_name = os.path.split(val_ds[case_num][\"image_meta_dict\"][\"filename_or_obj\"])[1]\n",
        "    img = test_image1[\"image\"]\n",
        "    img_shape = img.shape\n",
        "    print(f\"image shape: {img_shape}\")\n",
        "\n",
        "    plt.figure(\"image\", (18, 6))\n",
        "    plt.subplot(1, 2, 1)\n",
        "    plt.title(\"image\")\n",
        "    plt.imshow(img[0,0, :, :, 20].detach().cpu(), cmap=\"gray\")\n",
        "    plt.show()\n",
        "    i+=1\n",
        "    if i==3:\n",
        "        break\n"
      ],
      "outputs": [
        {
          "output_type": "stream",
          "name": "stdout",
          "text": [
            "image shape: torch.Size([1, 1, 512, 512, 64])\n"
          ]
        },
        {
          "output_type": "display_data",
          "data": {
            "text/plain": [
              "<Figure size 1296x432 with 1 Axes>"
            ],
            "image/png": "[encoded data removed]"
          },
          "metadata": {
            "needs_background": "light"
          }
        },
        {
          "output_type": "stream",
          "name": "stdout",
          "text": [
            "image shape: torch.Size([1, 1, 512, 512, 64])\n"
          ]
        },
        {
          "output_type": "display_data",
          "data": {
            "text/plain": [
              "<Figure size 1296x432 with 1 Axes>"
            ],
            "image/png": "[encoded data removed]"
          },
          "metadata": {
            "needs_background": "light"
          }
        },
        {
          "output_type": "stream",
          "name": "stdout",
          "text": [
            "image shape: torch.Size([1, 1, 512, 512, 64])\n"
          ]
        },
        {
          "output_type": "display_data",
          "data": {
            "text/plain": [
              "<Figure size 1296x432 with 1 Axes>"
            ],
            "image/png": "[encoded data removed]"
          },
          "metadata": {
            "needs_background": "light"
          }
        }
      ],
      "metadata": {
        "id": "kSdhXkEmdSmR",
        "outputId": "2491470a-fd09-494a-e55c-84f6777d0929"
      }
    },
    {
      "cell_type": "code",
      "execution_count": null,
      "source": [
        "i = 0\n",
        "for test_image2 in test_loader2:\n",
        "#img_name = os.path.split(val_ds[case_num][\"image_meta_dict\"][\"filename_or_obj\"])[1]\n",
        "    img = test_image1[\"image\"]\n",
        "    img_shape = img.shape\n",
        "    print(f\"image shape: {img_shape}\")\n",
        "\n",
        "    plt.figure(\"image\", (18, 6))\n",
        "    plt.subplot(1, 2, 1)\n",
        "    plt.title(\"image\")\n",
        "    plt.imshow(img[0,0, :, :, 20].detach().cpu(), cmap=\"gray\")\n",
        "    plt.show()\n",
        "    i+=1\n",
        "    if i==3:\n",
        "        break"
      ],
      "outputs": [
        {
          "output_type": "stream",
          "name": "stdout",
          "text": [
            "image shape: torch.Size([1, 1, 512, 512, 64])\n"
          ]
        },
        {
          "output_type": "display_data",
          "data": {
            "text/plain": [
              "<Figure size 1296x432 with 1 Axes>"
            ],
            "image/png": "[encoded data removed]"
          },
          "metadata": {
            "needs_background": "light"
          }
        },
        {
          "output_type": "stream",
          "name": "stdout",
          "text": [
            "image shape: torch.Size([1, 1, 512, 512, 64])\n"
          ]
        },
        {
          "output_type": "display_data",
          "data": {
            "text/plain": [
              "<Figure size 1296x432 with 1 Axes>"
            ],
            "image/png": "[encoded data removed]"
          },
          "metadata": {
            "needs_background": "light"
          }
        },
        {
          "output_type": "stream",
          "name": "stdout",
          "text": [
            "image shape: torch.Size([1, 1, 512, 512, 64])\n"
          ]
        },
        {
          "output_type": "display_data",
          "data": {
            "text/plain": [
              "<Figure size 1296x432 with 1 Axes>"
            ],
            "image/png": "[encoded data removed]"
          },
          "metadata": {
            "needs_background": "light"
          }
        }
      ],
      "metadata": {
        "id": "BIo0u0whdSmS",
        "outputId": "279eae4b-a91a-4170-9be1-b8d45aa230c0"
      }
    },
    {
      "cell_type": "code",
      "execution_count": null,
      "source": [
        "out_dir='/Users/hufsbme/gyu/reversed'\n",
        "import nibabel as nib"
      ],
      "outputs": [],
      "metadata": {
        "id": "yllrlqqCdSmT"
      }
    },
    {
      "cell_type": "code",
      "execution_count": null,
      "source": [
        "case_num=1\n",
        "for test_label in test_loader2:\n",
        "#img_name = os.path.split(val_ds[case_num][\"image_meta_dict\"][\"filename_or_obj\"])[1]\n",
        "    img = test_label[\"image\"]\n",
        "    #test_inputs = torch.unsqueeze(img, 1).to(device)\n",
        "    test_inputs=img\n",
        "    \n",
        "    print(test_inputs.shape)\n",
        "    ##print(val_outputs)\n",
        "    \n",
        "    ##print('#####')\n",
        "    ##print(val_outputs_new)\n",
        "    h1=nib.Nifti1Image(test_inputs.cpu().numpy()[0,0],test_label['image_meta_dict']['affine'][0])\n",
        "    if case_num<10:\n",
        "        nib.save(h1,os.path.join(out_dir,f'test00{case_num}.nii.gz'))\n",
        "    else :\n",
        "        nib.save(h1,os.path.join(out_dir,f'test0{case_num}.nii.gz'))\n",
        "    case_num+=1\n",
        "    "
      ],
      "outputs": [
        {
          "output_type": "stream",
          "name": "stdout",
          "text": [
            "torch.Size([1, 1, 512, 512, 64])\n",
            "torch.Size([1, 1, 512, 512, 64])\n",
            "torch.Size([1, 1, 512, 512, 64])\n",
            "torch.Size([1, 1, 512, 512, 64])\n",
            "torch.Size([1, 1, 512, 512, 64])\n",
            "torch.Size([1, 1, 512, 512, 64])\n",
            "torch.Size([1, 1, 512, 512, 64])\n",
            "torch.Size([1, 1, 512, 512, 64])\n",
            "torch.Size([1, 1, 512, 512, 64])\n",
            "torch.Size([1, 1, 512, 512, 64])\n",
            "torch.Size([1, 1, 512, 512, 64])\n",
            "torch.Size([1, 1, 512, 512, 64])\n",
            "torch.Size([1, 1, 512, 512, 64])\n",
            "torch.Size([1, 1, 512, 512, 64])\n",
            "torch.Size([1, 1, 512, 512, 64])\n",
            "torch.Size([1, 1, 512, 512, 64])\n",
            "torch.Size([1, 1, 512, 512, 64])\n",
            "torch.Size([1, 1, 512, 512, 64])\n",
            "torch.Size([1, 1, 512, 512, 64])\n",
            "torch.Size([1, 1, 512, 512, 64])\n",
            "torch.Size([1, 1, 512, 512, 64])\n",
            "torch.Size([1, 1, 512, 512, 64])\n",
            "torch.Size([1, 1, 512, 512, 64])\n",
            "torch.Size([1, 1, 512, 512, 64])\n",
            "torch.Size([1, 1, 512, 512, 64])\n",
            "torch.Size([1, 1, 512, 512, 64])\n",
            "torch.Size([1, 1, 512, 512, 64])\n",
            "torch.Size([1, 1, 512, 512, 64])\n",
            "torch.Size([1, 1, 512, 512, 64])\n",
            "torch.Size([1, 1, 512, 512, 64])\n",
            "torch.Size([1, 1, 512, 512, 64])\n",
            "torch.Size([1, 1, 512, 512, 64])\n",
            "torch.Size([1, 1, 512, 512, 64])\n",
            "torch.Size([1, 1, 512, 512, 64])\n",
            "torch.Size([1, 1, 512, 512, 64])\n",
            "torch.Size([1, 1, 512, 512, 64])\n",
            "torch.Size([1, 1, 512, 512, 64])\n",
            "torch.Size([1, 1, 512, 512, 64])\n",
            "torch.Size([1, 1, 512, 512, 64])\n",
            "torch.Size([1, 1, 512, 512, 64])\n",
            "torch.Size([1, 1, 512, 512, 64])\n",
            "torch.Size([1, 1, 512, 512, 64])\n",
            "torch.Size([1, 1, 512, 512, 64])\n",
            "torch.Size([1, 1, 512, 512, 64])\n",
            "torch.Size([1, 1, 512, 512, 64])\n",
            "torch.Size([1, 1, 512, 512, 64])\n",
            "torch.Size([1, 1, 512, 512, 64])\n",
            "torch.Size([1, 1, 512, 512, 64])\n",
            "torch.Size([1, 1, 512, 512, 64])\n",
            "torch.Size([1, 1, 512, 512, 64])\n",
            "torch.Size([1, 1, 512, 512, 64])\n",
            "torch.Size([1, 1, 512, 512, 64])\n",
            "torch.Size([1, 1, 512, 512, 64])\n",
            "torch.Size([1, 1, 512, 512, 64])\n",
            "torch.Size([1, 1, 512, 512, 64])\n",
            "torch.Size([1, 1, 512, 512, 64])\n",
            "torch.Size([1, 1, 512, 512, 64])\n",
            "torch.Size([1, 1, 512, 512, 64])\n",
            "torch.Size([1, 1, 512, 512, 64])\n",
            "torch.Size([1, 1, 512, 512, 64])\n",
            "torch.Size([1, 1, 512, 512, 64])\n",
            "torch.Size([1, 1, 512, 512, 64])\n",
            "torch.Size([1, 1, 512, 512, 64])\n",
            "torch.Size([1, 1, 512, 512, 64])\n",
            "torch.Size([1, 1, 512, 512, 64])\n",
            "torch.Size([1, 1, 512, 512, 64])\n",
            "torch.Size([1, 1, 512, 512, 64])\n",
            "torch.Size([1, 1, 512, 512, 64])\n",
            "torch.Size([1, 1, 512, 512, 64])\n",
            "torch.Size([1, 1, 512, 512, 64])\n",
            "torch.Size([1, 1, 512, 512, 64])\n",
            "torch.Size([1, 1, 512, 512, 64])\n",
            "torch.Size([1, 1, 512, 512, 64])\n",
            "torch.Size([1, 1, 512, 512, 64])\n",
            "torch.Size([1, 1, 512, 512, 64])\n",
            "torch.Size([1, 1, 512, 512, 64])\n",
            "torch.Size([1, 1, 512, 512, 64])\n",
            "torch.Size([1, 1, 512, 512, 64])\n",
            "torch.Size([1, 1, 512, 512, 64])\n",
            "torch.Size([1, 1, 512, 512, 64])\n",
            "torch.Size([1, 1, 512, 512, 64])\n",
            "torch.Size([1, 1, 512, 512, 64])\n",
            "torch.Size([1, 1, 512, 512, 64])\n"
          ]
        }
      ],
      "metadata": {
        "id": "xCGtc3rrdSmU",
        "outputId": "23114a4d-ad88-4f26-aea2-ef143fc3879c"
      }
    },
    {
      "cell_type": "code",
      "execution_count": null,
      "source": [
        ""
      ],
      "outputs": [],
      "metadata": {
        "id": "9w_E7DJvdSmV"
      }
    }
  ],
  "metadata": {
    "orig_nbformat": 4,
    "language_info": {
      "name": "python",
      "version": "3.8.8",
      "mimetype": "text/x-python",
      "codemirror_mode": {
        "name": "ipython",
        "version": 3
      },
      "pygments_lexer": "ipython3",
      "nbconvert_exporter": "python",
      "file_extension": ".py"
    },
    "kernelspec": {
      "name": "python3",
      "display_name": "Python 3.8.8 64-bit ('gyu': conda)"
    },
    "interpreter": {
      "hash": "57426c1144f4ffb69d9179984661f5377009ebabc9d797c11bb78000f35a06d2"
    },
    "colab": {
      "name": "reverse_test_label.ipynb",
      "provenance": [],
      "include_colab_link": true
    }
  },
  "nbformat": 4,
  "nbformat_minor": 0
}